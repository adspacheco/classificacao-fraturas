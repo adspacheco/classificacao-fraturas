{
  "nbformat": 4,
  "nbformat_minor": 0,
  "metadata": {
    "colab": {
      "provenance": [],
      "mount_file_id": "11abdtvLlBXgMySNRy2x_V8wfCLXOCdSb",
      "authorship_tag": "ABX9TyPKeuRlDtLr+pFXoGXZFZyA",
      "include_colab_link": true
    },
    "kernelspec": {
      "name": "python3",
      "display_name": "Python 3"
    },
    "language_info": {
      "name": "python"
    }
  },
  "cells": [
    {
      "cell_type": "markdown",
      "metadata": {
        "id": "view-in-github",
        "colab_type": "text"
      },
      "source": [
        "<a href=\"https://colab.research.google.com/github/adspacheco/classificacao-fraturas/blob/main/pre_data_augmentation.ipynb\" target=\"_parent\"><img src=\"https://colab.research.google.com/assets/colab-badge.svg\" alt=\"Open In Colab\"/></a>"
      ]
    },
    {
      "cell_type": "code",
      "execution_count": 1,
      "metadata": {
        "id": "TsERLHj19EnB"
      },
      "outputs": [],
      "source": [
        "%%capture\n",
        "!wget https://github.com/adspacheco/classificacao-fraturas/raw/main/dataset/dataset.zip\n",
        "!unzip /content/dataset.zip"
      ]
    },
    {
      "cell_type": "code",
      "source": [
        "%%capture\n",
        "!wget https://raw.githubusercontent.com/adspacheco/classificacao-fraturas/main/utils.py"
      ],
      "metadata": {
        "id": "naRzYI9e9Gcq"
      },
      "execution_count": 2,
      "outputs": []
    },
    {
      "cell_type": "code",
      "source": [
        "!pip install keras-visualizer # só por causa do utils :)"
      ],
      "metadata": {
        "colab": {
          "base_uri": "https://localhost:8080/"
        },
        "id": "rUN1EPBq9aAT",
        "outputId": "cbbb4375-ad91-4256-e9ec-4a390b6b4212"
      },
      "execution_count": 3,
      "outputs": [
        {
          "output_type": "stream",
          "name": "stdout",
          "text": [
            "Collecting keras-visualizer\n",
            "  Downloading keras_visualizer-3.2.0-py3-none-any.whl (7.1 kB)\n",
            "Requirement already satisfied: graphviz in /usr/local/lib/python3.10/dist-packages (from keras-visualizer) (0.20.3)\n",
            "Installing collected packages: keras-visualizer\n",
            "Successfully installed keras-visualizer-3.2.0\n"
          ]
        }
      ]
    },
    {
      "cell_type": "code",
      "source": [
        "import utils\n",
        "import glob\n",
        "import pandas as pd\n",
        "import os\n",
        "import random\n",
        "import shutil"
      ],
      "metadata": {
        "id": "4_K2gv5L9OIN"
      },
      "execution_count": 4,
      "outputs": []
    },
    {
      "cell_type": "code",
      "source": [
        "BASE_PATH = '/content/classificacao-imagem-tipos-fraturas-ossos-imagens-raio-x'"
      ],
      "metadata": {
        "id": "TyqD_I5u9fe9"
      },
      "execution_count": 5,
      "outputs": []
    },
    {
      "cell_type": "code",
      "source": [
        "initial_counts = utils.count_files_and_calculate_percentages(BASE_PATH)"
      ],
      "metadata": {
        "colab": {
          "base_uri": "https://localhost:8080/"
        },
        "id": "zVy5-IH79mcZ",
        "outputId": "a395ff93-f4ad-40e2-ab17-ef0c31fcda29"
      },
      "execution_count": 6,
      "outputs": [
        {
          "output_type": "stream",
          "name": "stdout",
          "text": [
            "Diretório: Hairline Fracture - Total: 111\n",
            "  Train files: 101 (90.99%)\n",
            "  Test files: 10 (9.01%)\n",
            "Diretório: Avulsion fracture - Total: 123\n",
            "  Train files: 109 (88.62%)\n",
            "  Test files: 14 (11.38%)\n",
            "Diretório: Pathological fracture - Total: 134\n",
            "  Train files: 116 (86.57%)\n",
            "  Test files: 18 (13.43%)\n",
            "Diretório: Impacted fracture - Total: 84\n",
            "  Train files: 75 (89.29%)\n",
            "  Test files: 9 (10.71%)\n",
            "Diretório: Fracture Dislocation - Total: 156\n",
            "  Train files: 137 (87.82%)\n",
            "  Test files: 19 (12.18%)\n",
            "Diretório: Greenstick fracture - Total: 122\n",
            "  Train files: 106 (86.89%)\n",
            "  Test files: 16 (13.11%)\n",
            "Diretório: Longitudinal fracture - Total: 80\n",
            "  Train files: 68 (85.00%)\n",
            "  Test files: 12 (15.00%)\n",
            "Diretório: Oblique fracture - Total: 85\n",
            "  Train files: 69 (81.18%)\n",
            "  Test files: 16 (18.82%)\n",
            "Diretório: Spiral Fracture - Total: 86\n",
            "  Train files: 74 (86.05%)\n",
            "  Test files: 12 (13.95%)\n",
            "Diretório: Comminuted fracture - Total: 148\n",
            "  Train files: 134 (90.54%)\n",
            "  Test files: 14 (9.46%)\n",
            "\n",
            "Resumo:\n",
            "  Total Train: 989 (87.60%)\n",
            "  Total Test: 140 (12.40%)\n"
          ]
        }
      ]
    },
    {
      "cell_type": "code",
      "source": [
        "old_to_new_dir_names = utils.rename_directories_and_files(BASE_PATH)\n",
        "\n",
        "print(\"\\nContagem de arquivos depois da padronização:\")\n",
        "\n",
        "new_counts = utils.count_files_and_calculate_percentages(BASE_PATH, train_name='train', test_name='test')\n",
        "\n",
        "utils.validate_counts(initial_counts, new_counts, old_to_new_dir_names)"
      ],
      "metadata": {
        "colab": {
          "base_uri": "https://localhost:8080/"
        },
        "id": "8tzGdC7r9PcX",
        "outputId": "2d1473c0-5749-4c02-c3dd-d669f7391af6"
      },
      "execution_count": 7,
      "outputs": [
        {
          "output_type": "stream",
          "name": "stdout",
          "text": [
            "\n",
            "Contagem de arquivos depois da padronização:\n",
            "Diretório: longitudinal - Total: 80\n",
            "  Train files: 68 (85.00%)\n",
            "  Test files: 12 (15.00%)\n",
            "Diretório: fracture_dislocation - Total: 156\n",
            "  Train files: 137 (87.82%)\n",
            "  Test files: 19 (12.18%)\n",
            "Diretório: comminuted - Total: 148\n",
            "  Train files: 134 (90.54%)\n",
            "  Test files: 14 (9.46%)\n",
            "Diretório: avulsion - Total: 123\n",
            "  Train files: 109 (88.62%)\n",
            "  Test files: 14 (11.38%)\n",
            "Diretório: oblique - Total: 85\n",
            "  Train files: 69 (81.18%)\n",
            "  Test files: 16 (18.82%)\n",
            "Diretório: hairline - Total: 111\n",
            "  Train files: 101 (90.99%)\n",
            "  Test files: 10 (9.01%)\n",
            "Diretório: pathological - Total: 134\n",
            "  Train files: 116 (86.57%)\n",
            "  Test files: 18 (13.43%)\n",
            "Diretório: impacted - Total: 84\n",
            "  Train files: 75 (89.29%)\n",
            "  Test files: 9 (10.71%)\n",
            "Diretório: greenstick - Total: 122\n",
            "  Train files: 106 (86.89%)\n",
            "  Test files: 16 (13.11%)\n",
            "Diretório: spiral - Total: 86\n",
            "  Train files: 74 (86.05%)\n",
            "  Test files: 12 (13.95%)\n",
            "\n",
            "Resumo:\n",
            "  Total Train: 989 (87.60%)\n",
            "  Total Test: 140 (12.40%)\n",
            "\n",
            "Padronização realizada com sucesso. A quantidade de arquivos permanece inalterada.\n"
          ]
        }
      ]
    },
    {
      "cell_type": "code",
      "source": [
        "!ls classificacao-imagem-tipos-fraturas-ossos-imagens-raio-x"
      ],
      "metadata": {
        "colab": {
          "base_uri": "https://localhost:8080/"
        },
        "id": "YWAvKtpzEneW",
        "outputId": "6c5c3cfa-093b-477a-a98a-26c857cadbb4"
      },
      "execution_count": 8,
      "outputs": [
        {
          "output_type": "stream",
          "name": "stdout",
          "text": [
            "avulsion    fracture_dislocation  hairline  longitudinal  pathological\n",
            "comminuted  greenstick\t\t  impacted  oblique\t  spiral\n"
          ]
        }
      ]
    },
    {
      "cell_type": "code",
      "source": [
        "!ls \"/content/classificacao-imagem-tipos-fraturas-ossos-imagens-raio-x/avulsion/test\""
      ],
      "metadata": {
        "colab": {
          "base_uri": "https://localhost:8080/"
        },
        "id": "7ZD4NPp7E8LU",
        "outputId": "dd1d5e49-13c6-4aff-d74b-a328c3bfea88"
      },
      "execution_count": 9,
      "outputs": [
        {
          "output_type": "stream",
          "name": "stdout",
          "text": [
            "avulsion_110.jpg  avulsion_113.jpg  avulsion_116.jpg  avulsion_119.jpg\tavulsion_122.jpg\n",
            "avulsion_111.jpg  avulsion_114.jpg  avulsion_117.jpg  avulsion_120.jpg\tavulsion_123.jpg\n",
            "avulsion_112.jpg  avulsion_115.jpg  avulsion_118.jpg  avulsion_121.jpg\n"
          ]
        }
      ]
    },
    {
      "cell_type": "markdown",
      "source": [
        "# Tratamento da Base\n",
        "\n",
        "Para garantir um conjunto de dados balanceado, selecionamos 34 imagens para o conjunto de teste de cada classe, resultando em um número igual de exemplos para avaliação.\n",
        "\n",
        "A menor classe possuía 84 imagens, deixando 50 imagens disponíveis para augmentation. Aplicamos a função de augmentation com três tipos de transformações aleatórias (rotação, espelhamento horizontal e vertical) a essas 50 imagens originais.\n",
        "\n",
        "Cada imagem sofreu até 3 transformações diferentes, criando 4 variações no total (a original mais 3 transformadas) por imagem, até atingir o total desejado de 170 imagens de treino por classe.\n",
        "\n",
        "Dessa forma, temos 34 imagens de teste por classe sem augmentation e um conjunto de treino balanceado com 170 imagens por classe."
      ],
      "metadata": {
        "id": "4foKmH8gZAim"
      }
    },
    {
      "cell_type": "code",
      "source": [
        "AUG_DIR_PATH = '/content/augmentation'\n",
        "AUG_BASE_PATH = '/content/classificacao-imagem-tipos-fraturas-ossos-imagens-raio-x-aug'\n",
        "NEW_BASE_PATH = '/content/classificacao-imagem-tipos-fraturas-ossos-imagens-raio-x-balanced'\n",
        "FINAL_BASE_PATH = '/content/classificacao-imagem-tipos-fraturas-ossos-imagens-raio-x-final'\n",
        "\n",
        "target_count = 170\n",
        "classes = ['avulsion', 'comminuted', 'fracture_dislocation', 'greenstick', 'hairline', 'impacted', 'longitudinal', 'oblique', 'pathological', 'spiral']"
      ],
      "metadata": {
        "id": "ApdDM61a_KBx"
      },
      "execution_count": 10,
      "outputs": []
    },
    {
      "cell_type": "code",
      "source": [
        "os.makedirs(NEW_BASE_PATH, exist_ok=True)\n",
        "\n",
        "for cls in classes:\n",
        "    os.makedirs(os.path.join(NEW_BASE_PATH, 'train', cls), exist_ok=True)\n",
        "    os.makedirs(os.path.join(NEW_BASE_PATH, 'test', cls), exist_ok=True)"
      ],
      "metadata": {
        "id": "Xt57Og2GDGJ3"
      },
      "execution_count": 11,
      "outputs": []
    },
    {
      "cell_type": "code",
      "source": [
        "for cls in classes:\n",
        "    train_path = os.path.join(BASE_PATH, cls, 'train')\n",
        "    test_path = os.path.join(BASE_PATH, cls, 'test')\n",
        "\n",
        "    all_images = os.listdir(train_path) + os.listdir(test_path)\n",
        "\n",
        "    random.shuffle(all_images)\n",
        "\n",
        "    test_images = all_images[:34]\n",
        "\n",
        "    train_images = all_images[34:]\n",
        "\n",
        "    for img in test_images:\n",
        "        src = os.path.join(train_path, img) if img in os.listdir(train_path) else os.path.join(test_path, img)\n",
        "        dest = os.path.join(NEW_BASE_PATH, 'test', cls, img)\n",
        "        shutil.copyfile(src, dest)\n",
        "\n",
        "    for img in train_images:\n",
        "        src = os.path.join(train_path, img) if img in os.listdir(train_path) else os.path.join(test_path, img)\n",
        "        dest = os.path.join(NEW_BASE_PATH, 'train', cls, img)\n",
        "        shutil.copyfile(src, dest)"
      ],
      "metadata": {
        "id": "AE0x-HOtFhdM"
      },
      "execution_count": 12,
      "outputs": []
    },
    {
      "cell_type": "code",
      "source": [
        "file_counts = utils.count_files_in_directory(NEW_BASE_PATH, classes)\n",
        "\n",
        "for split in ['train', 'test']:\n",
        "    print(f\"\\n{split.upper()}:\")\n",
        "    for cls in classes:\n",
        "        print(f\"{cls}: {file_counts[split][cls]} imagens\")"
      ],
      "metadata": {
        "colab": {
          "base_uri": "https://localhost:8080/"
        },
        "id": "dCYNaLXbFphK",
        "outputId": "291355e3-7ba2-4bf7-d9fe-eec83c330241"
      },
      "execution_count": 13,
      "outputs": [
        {
          "output_type": "stream",
          "name": "stdout",
          "text": [
            "\n",
            "TRAIN:\n",
            "avulsion: 89 imagens\n",
            "comminuted: 114 imagens\n",
            "fracture_dislocation: 122 imagens\n",
            "greenstick: 88 imagens\n",
            "hairline: 77 imagens\n",
            "impacted: 50 imagens\n",
            "longitudinal: 46 imagens\n",
            "oblique: 51 imagens\n",
            "pathological: 100 imagens\n",
            "spiral: 52 imagens\n",
            "\n",
            "TEST:\n",
            "avulsion: 34 imagens\n",
            "comminuted: 34 imagens\n",
            "fracture_dislocation: 34 imagens\n",
            "greenstick: 34 imagens\n",
            "hairline: 34 imagens\n",
            "impacted: 34 imagens\n",
            "longitudinal: 34 imagens\n",
            "oblique: 34 imagens\n",
            "pathological: 34 imagens\n",
            "spiral: 34 imagens\n"
          ]
        }
      ]
    },
    {
      "cell_type": "code",
      "source": [
        "file_counts = utils.count_files_in_directory(NEW_BASE_PATH, classes)"
      ],
      "metadata": {
        "id": "Yt1BKinwXv1l"
      },
      "execution_count": 14,
      "outputs": []
    },
    {
      "cell_type": "code",
      "source": [
        "for class_label in classes:\n",
        "    train_path = os.path.join(NEW_BASE_PATH, 'train', class_label)\n",
        "    aug_train_path = os.path.join(AUG_BASE_PATH, 'train', class_label)\n",
        "    os.makedirs(aug_train_path, exist_ok=True)\n",
        "\n",
        "    class_images = os.listdir(train_path)\n",
        "    existing_images = len(class_images)\n",
        "\n",
        "    for img_name in class_images:\n",
        "        src = os.path.join(train_path, img_name)\n",
        "        dest = os.path.join(aug_train_path, img_name)\n",
        "        shutil.copy(src, dest)\n",
        "\n",
        "    if existing_images < target_count:\n",
        "        augment_count = target_count - existing_images\n",
        "        counter = existing_images\n",
        "\n",
        "        for img_name in class_images:\n",
        "            img_path = os.path.join(train_path, img_name)\n",
        "            for _ in range(augment_count // existing_images + (1 if counter < target_count else 0)):\n",
        "                if counter < target_count:\n",
        "                    utils.save_augmented_images(img_path, class_label, 1, counter, AUG_BASE_PATH)\n",
        "                    counter += 1\n",
        "\n",
        "print(\"Image augmentation completed!\")"
      ],
      "metadata": {
        "colab": {
          "base_uri": "https://localhost:8080/"
        },
        "id": "tt2zDLPsGTrO",
        "outputId": "e30fe889-af09-41ee-ff06-2bdcc26d3317"
      },
      "execution_count": 15,
      "outputs": [
        {
          "output_type": "stream",
          "name": "stdout",
          "text": [
            "Image augmentation completed!\n"
          ]
        }
      ]
    },
    {
      "cell_type": "code",
      "source": [
        "aug_file_counts = utils.count_files_in_directory(AUG_BASE_PATH, classes)\n",
        "\n",
        "print(\"\\nTRAIN (Augmented):\")\n",
        "for cls in classes:\n",
        "    print(f\"{cls}: {aug_file_counts['train'][cls]} imagens\")"
      ],
      "metadata": {
        "colab": {
          "base_uri": "https://localhost:8080/"
        },
        "id": "vhjrT-c0RVmA",
        "outputId": "874630a5-8583-4de9-aee8-d5135cb9f370"
      },
      "execution_count": 16,
      "outputs": [
        {
          "output_type": "stream",
          "name": "stdout",
          "text": [
            "\n",
            "TRAIN (Augmented):\n",
            "avulsion: 170 imagens\n",
            "comminuted: 170 imagens\n",
            "fracture_dislocation: 170 imagens\n",
            "greenstick: 170 imagens\n",
            "hairline: 170 imagens\n",
            "impacted: 170 imagens\n",
            "longitudinal: 170 imagens\n",
            "oblique: 170 imagens\n",
            "pathological: 170 imagens\n",
            "spiral: 170 imagens\n"
          ]
        }
      ]
    },
    {
      "cell_type": "code",
      "source": [
        "for cls in classes:\n",
        "    os.makedirs(os.path.join(FINAL_BASE_PATH, cls, 'train'), exist_ok=True)\n",
        "    os.makedirs(os.path.join(FINAL_BASE_PATH, cls, 'test'), exist_ok=True)\n",
        "\n",
        "\n",
        "for cls in classes:\n",
        "    aug_train_path = os.path.join(AUG_BASE_PATH, 'train', cls)\n",
        "    orig_train_path = os.path.join('/content/classificacao-imagem-tipos-fraturas-ossos-imagens-raio-x-balanced', 'train', cls)\n",
        "    orig_test_path = os.path.join('/content/classificacao-imagem-tipos-fraturas-ossos-imagens-raio-x-balanced', 'test', cls)\n",
        "\n",
        "    final_train_path = os.path.join(FINAL_BASE_PATH, cls, 'train')\n",
        "    final_test_path = os.path.join(FINAL_BASE_PATH, cls, 'test')\n",
        "\n",
        "    utils.copy_files(aug_train_path, final_train_path)\n",
        "\n",
        "    utils.copy_files(orig_test_path, final_test_path)\n",
        "\n",
        "print(\"Arquivos copiados para a nova estrutura de diretórios.\")\n"
      ],
      "metadata": {
        "colab": {
          "base_uri": "https://localhost:8080/"
        },
        "id": "lYpI-akDIEz8",
        "outputId": "5896ab98-a59d-442c-e62e-17a0047c639d"
      },
      "execution_count": 17,
      "outputs": [
        {
          "output_type": "stream",
          "name": "stdout",
          "text": [
            "Arquivos copiados para a nova estrutura de diretórios.\n"
          ]
        }
      ]
    },
    {
      "cell_type": "code",
      "source": [
        "final_file_counts = utils.count_files_in_final_directory(FINAL_BASE_PATH, classes)"
      ],
      "metadata": {
        "id": "LVP0RHMHYOtp"
      },
      "execution_count": 18,
      "outputs": []
    },
    {
      "cell_type": "code",
      "source": [
        "for split in ['train', 'test']:\n",
        "    print(f\"\\n{split.upper()}:\")\n",
        "    for cls in classes:\n",
        "        print(f\"{cls}: {final_file_counts[split][cls]} imagens\")"
      ],
      "metadata": {
        "colab": {
          "base_uri": "https://localhost:8080/"
        },
        "id": "CWwn0yK7NFhD",
        "outputId": "173c4f6c-3f31-4e72-d372-dca034f84f0f"
      },
      "execution_count": 19,
      "outputs": [
        {
          "output_type": "stream",
          "name": "stdout",
          "text": [
            "\n",
            "TRAIN:\n",
            "avulsion: 170 imagens\n",
            "comminuted: 170 imagens\n",
            "fracture_dislocation: 170 imagens\n",
            "greenstick: 170 imagens\n",
            "hairline: 170 imagens\n",
            "impacted: 170 imagens\n",
            "longitudinal: 170 imagens\n",
            "oblique: 170 imagens\n",
            "pathological: 170 imagens\n",
            "spiral: 170 imagens\n",
            "\n",
            "TEST:\n",
            "avulsion: 34 imagens\n",
            "comminuted: 34 imagens\n",
            "fracture_dislocation: 34 imagens\n",
            "greenstick: 34 imagens\n",
            "hairline: 34 imagens\n",
            "impacted: 34 imagens\n",
            "longitudinal: 34 imagens\n",
            "oblique: 34 imagens\n",
            "pathological: 34 imagens\n",
            "spiral: 34 imagens\n"
          ]
        }
      ]
    },
    {
      "cell_type": "code",
      "source": [
        "zip_path = '/content/classificacao-imagem-tipos-fraturas-ossos-imagens.zip'\n",
        "\n",
        "shutil.make_archive(zip_path.replace('.zip', ''), 'zip', FINAL_BASE_PATH)"
      ],
      "metadata": {
        "colab": {
          "base_uri": "https://localhost:8080/",
          "height": 35
        },
        "id": "FWDD9YlCN2ml",
        "outputId": "a195043d-851d-4f6e-e070-dfb5757a0675"
      },
      "execution_count": 20,
      "outputs": [
        {
          "output_type": "execute_result",
          "data": {
            "text/plain": [
              "'/content/classificacao-imagem-tipos-fraturas-ossos-imagens.zip'"
            ],
            "application/vnd.google.colaboratory.intrinsic+json": {
              "type": "string"
            }
          },
          "metadata": {},
          "execution_count": 20
        }
      ]
    }
  ]
}